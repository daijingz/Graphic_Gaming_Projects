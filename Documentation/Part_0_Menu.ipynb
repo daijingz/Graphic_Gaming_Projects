{
 "cells": [
  {
   "cell_type": "markdown",
   "metadata": {},
   "source": [
    "<h1>Computer Graphic and Rendering Documentation Part 0: Implementation</h1>"
   ]
  },
  {
   "cell_type": "markdown",
   "metadata": {},
   "source": [
    "<b>Author: Jingze Dai</b>\n",
    "<p>McMaster University, Honors Computer Science (Coop) student (Currently 4th year)</p>\n",
    "<p>Preferred Email Address: daij24@mcmaster.ca</p>\n",
    "<p>Email Address: david1147062956@163.com</p>\n",
    "<a href=\"https://github.com/daijingz\">Github Homepage</a>\n",
    "<a href=\"https://www.linkedin.com/in/jingze-dai/\">Linkedin Webpage</a>"
   ]
  },
  {
   "cell_type": "markdown",
   "metadata": {},
   "source": [
    "<i>This project includes 4 parts: OpenGL library basic programming works (C++ glut library basic programs), OpenGL library advanced programming works (C++ glut library advanced programs), OpenGL library image rendering (an image rendered by using C++ glut library, very complex) and Unity game program (a designed Unity game. very complex). All of those programs are mainly about rendering images and drawing game features.</i>"
   ]
  },
  {
   "cell_type": "markdown",
   "metadata": {},
   "source": [
    "<i>Because of time limits, lots of works have not been uploaded to this repository. Sorry for inconvenience. More Information is coming soon.</i>"
   ]
  },
  {
   "cell_type": "markdown",
   "metadata": {},
   "source": [
    "<i>Your Feedback is important for David's further development. If you want to give feedbacks and suggestions, or you want to participate in working and learning together, please email David at daij24@mcmaster.ca. If you want David to provide contributions to your opensource project or you want David to help you with any programming issues, please email David at daij24@mcmaster.ca as well. Thank you for your help.</i>"
   ]
  },
  {
   "cell_type": "markdown",
   "metadata": {},
   "source": [
    "<b>Module 0: Environment settings</b>\n",
    "<p>IDE: Visual Studio 2012, 2019 and 2020, Visual Studio Code, and Virtual Machine (VM).</p>\n",
    "<p>Operating system: Windows 10 (both 32-bit and 64-bit included)</p>\n",
    "<p>OpenGL library: <b>glut</b></p>\n",
    "<p>Programming languages: <b>C++</b></p>\n",
    "<p>Background Course: COMPSCI 3GC3, McMaster University.</p>"
   ]
  },
  {
   "cell_type": "markdown",
   "metadata": {},
   "source": [
    "<b>Module 1: Reminder (READ before working on this project)</b>\n",
    "<ul>\n",
    "    <li><b>Nothing is perfect, if you find any problems and need a solution, please read error handling documentations (most common errors will be recorded inside). Some problems are unfixable for the author (because of technical issues and designs), those problems will give you the specified reason on why it cannot be fixed.</b></li>\n",
    "    <li><b>Time is too limited to finish everything. Some parts are incomplete. They will be finished soon.</b></li>\n",
    "    <li><b></b></li>\n",
    "</ul>"
   ]
  },
  {
   "cell_type": "markdown",
   "metadata": {},
   "source": [
    "<b>Module 2: OpenGL library basic programming works</b>\n",
    "<p>This part includes hundreds of implementations of OpenGL basic programming, each program includes one or more basic functions' usages with explanations. Some programs may include applications on computer graphics. To understand the code please read the comments on appropriate places and documentations. Each program is rendering an expected image, so each program includes a screenshot to represent expected output of image. (named output, usually JPEG format, however it may have other formats) <b>Before looking at contents, please read those instructions carefully.</b></p>\n",
    "<table style=\"width:100%\">\n",
    "  <tr>\n",
    "    <th>Functions and Tools</th>\n",
    "    <th>Functions and Tools</th>\n",
    "    <th>Functions and Tools</th>\n",
    "  </tr>\n",
    "  <tr>\n",
    "    <td>OpenGL Basic Execution and Compilation</td>\n",
    "    <td>C++ Basic and Advanced Programming</td>\n",
    "    <td>Points and lines rendering</td>\n",
    "  </tr>\n",
    "  <tr>\n",
    "    <td>Polygons and planes rendering</td>\n",
    "    <td>OpenGL data structures</td>\n",
    "    <td>Shape transformation</td>\n",
    "  </tr>\n",
    "  <tr>\n",
    "    <td>OpenGL matrix operations</td>\n",
    "    <td>OpenGL 2D/3D transformation of viewing</td>\n",
    "    <td>Human interaction (clipping, rotation)</td>\n",
    "  </tr>\n",
    "  <tr>\n",
    "    <td>OpenGL 2D/3D coloring shading</td>\n",
    "    <td>OpenGL transformation of coordinate systems</td>\n",
    "    <td>OpenGL depth buffer (Z-buffer)</td>\n",
    "  </tr>\n",
    "  <tr>\n",
    "    <td>OpenGL basic lighting</td>\n",
    "    <td>OpenGL basic materials</td>\n",
    "    <td>OpenGL surface rendering</td>\n",
    "  </tr>\n",
    "  <tr>\n",
    "    <td>OpenGL texturing</td>\n",
    "    <td>Basic Ray Tracing Algorithms</td>\n",
    "    <td>reflection, refraction, and shadows</td>\n",
    "  </tr>\n",
    "</table>\n",
    "<br>\n",
    "<b>List of programs</b>\n",
    "<br>\n",
    "<li>\n",
    "    <ul></ul>\n",
    "</li>"
   ]
  },
  {
   "cell_type": "markdown",
   "metadata": {},
   "source": [
    "<b>Module 3: OpenGL library advanced programming works</b>\n",
    "<p>This part is a group of implementations of OpenGL advanced programming. Compared with module 1, all of techniques and tools it has are advanced programming techniques and tools. Some programs may include applications on computer graphics. To understand the code please read the comments on appropriate places and documentations. Each program is rendering an expected image, so each program includes a screenshot to represent expected output of image. (named output, usually JPEG format, however it may have other formats) <b>Before looking at contents, please read those instructions carefully.</b></p>\n",
    "<table style=\"width:100%\">\n",
    "  <tr>\n",
    "    <th>Functions and Tools</th>\n",
    "    <th>Functions and Tools</th>\n",
    "    <th>Functions and Tools</th>\n",
    "  </tr>\n",
    "  <tr>\n",
    "    <td>Accumulation buffers</td>\n",
    "    <td>Atmospheric Effects (Fogs)</td>\n",
    "    <td>Transparency (Partial Transparency)</td>\n",
    "  </tr>\n",
    "  <tr>\n",
    "    <td>GLU tesselator</td>\n",
    "    <td>Stencil buffer</td>\n",
    "    <td>Environment texture mapping (Phong)</td>\n",
    "  </tr>\n",
    "  <tr>\n",
    "    <td>Real-time buffer</td>\n",
    "    <td>Hidden line techniques</td>\n",
    "    <td>Multiple mipmap filters</td>\n",
    "  </tr>\n",
    "  <tr>\n",
    "    <td>Virtualization of OpenGL's lights</td>\n",
    "    <td>Simple projective texture mapping</td>\n",
    "    <td>Perspective-correct texture mapping</td>\n",
    "  </tr>\n",
    "  <tr>\n",
    "    <td>Boundary tessellation</td>\n",
    "    <td>Shadow volume techniques</td>\n",
    "    <td>Advanced human interaction</td>\n",
    "  </tr>\n",
    "  <tr>\n",
    "    <td>Rendering silhouette edges</td>\n",
    "    <td>Creating soft shadows</td>\n",
    "    <td>Different tesselations for complex shapes</td>\n",
    "  </tr>\n",
    "</table>"
   ]
  },
  {
   "cell_type": "markdown",
   "metadata": {},
   "source": [
    "<b>Module 4: OpenGL library image rendering</b>\n",
    "<p>This is a large-scale project written in OpenGL (glut library), and this project is based on existing OpenGL basic and advanced techniques (already mentioned in module 1 and module 2). It includes more than 20-30 advanced OpenGL techniques and all basic OpenGL techniques described above. To understand the code please read the comments on appropriate places and documentations. Each program is rendering an expected image, so each program includes a screenshot to represent expected output of image. (named output, usually JPEG format, however it may have other formats) <b>Before looking at contents, please read those instructions carefully.</b></p>"
   ]
  },
  {
   "cell_type": "markdown",
   "metadata": {},
   "source": [
    "<b>Module 5: Unity game program</b>\n",
    "    <p>Unity is an useful video game tool. This module includes 1 or more Unity application games. To understand the code please read the comments on appropriate places and documentations. Each program is rendering an expected image, so each program includes a screenshot to represent expected output of image. (named output, usually JPEG format, however it may have other formats) <b>Before looking at contents, please read those instructions carefully.</b></p>"
   ]
  }
 ],
 "metadata": {
  "kernelspec": {
   "display_name": "Python 3",
   "language": "python",
   "name": "python3"
  },
  "language_info": {
   "codemirror_mode": {
    "name": "ipython",
    "version": 3
   },
   "file_extension": ".py",
   "mimetype": "text/x-python",
   "name": "python",
   "nbconvert_exporter": "python",
   "pygments_lexer": "ipython3",
   "version": "3.8.5"
  }
 },
 "nbformat": 4,
 "nbformat_minor": 4
}
